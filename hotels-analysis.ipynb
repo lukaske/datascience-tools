{
 "cells": [
  {
   "cell_type": "markdown",
   "metadata": {
    "vscode": {
     "languageId": "plaintext"
    }
   },
   "source": [
    "# Hotel dataset analysis\n",
    "<p style=\"font-weight: 600; text-align: center;\">\n",
    "Datascience Tools, February 2025 <br>\n",
    "Luka Skeledžija\n",
    "</p>\n",
    "\n",
    "<style>\n",
    ".MJXc-display{\n",
    "    display: inline-block !important;\n",
    "    width: 100%;\n",
    "}\n",
    "@media print {\n",
    "    .pagebreak { page-break-before: always; } /* page-break-after works, as well */\n",
    "}\n",
    "\n",
    "img{\n",
    "    width: 100%;\n",
    "    max-width: 600px !important;\n",
    "    margin: auto !important;\n",
    "}\n",
    "\n",
    "body {\n",
    "    overflow: hidden;\n",
    "    max-width: 600px;\n",
    "    margin: auto;\n",
    "}\n",
    "\n",
    "::-webkit-scrollbar {\n",
    "  width: 0px;\n",
    "}\n",
    "\n",
    "table{\n",
    "    width: 100%;\n",
    "}\n",
    "\n",
    "h1 {\n",
    "    text-transform: uppercase;\n",
    "    text-align: center;\n",
    "    background: #222222;\n",
    "    color: white;\n",
    "    padding: 8px;\n",
    "}\n",
    "\n",
    "blockquote {\n",
    "    margin-left: 0em!important;\n",
    "    margin-right: 0em!important;\n",
    "\n",
    "}\n",
    "\n",
    ".jp-RenderedHTMLCommon pre, .jp-RenderedHTMLCommon code {\n",
    "\n",
    "    background-color: var(--jp-layout-color2)!important;\n",
    "}\n",
    "\n",
    ".jp-RenderedHTMLCommon pre{\n",
    "    margin: 0.5em 0em!important;\n",
    "    padding: 0em 1.5em!important;\n",
    "}\n",
    "\n",
    "body {\n",
    "    counter-reset: h2counter;\n",
    "}\n",
    "h1 {\n",
    "    counter-reset: h2counter;\n",
    "}\n",
    "h2:before {\n",
    "    content: counter(h2counter) \".\\0000a0\\0000a0\";\n",
    "    counter-increment: h2counter;\n",
    "    counter-reset: h3counter;\n",
    "}\n",
    "h3:before {\n",
    "    counter-increment: h3counter;\n",
    "    content: counter(h2counter) \".\" counter(h3counter) \".\\0000a0\\0000a0\";\n",
    "  \n",
    "}\n",
    "\n",
    "\n",
    "\n",
    "\n",
    "</style>\n",
    "\n",
    "\n",
    "---"
   ]
  },
  {
   "cell_type": "markdown",
   "metadata": {},
   "source": [
    "## Introduction\n",
    "\n",
    "This analysis explores a dataset containing 119,390 hotel bookings recorded between July 2015 and August 2017 from two hotels: a City Hotel and a Resort Hotel. The data includes both successful stays and cancellations, providing insights into booking patterns and hotel operations. While customer identification details were removed for privacy, the dataset includes synthetic personal information to maintain data structure. Through this analysis, we aim to uncover meaningful patterns and seasonal trends.\n",
    "\n",
    "> You can download the dataset yourself from Kaggle → [🔗 Hotel Booking Dataset](https://www.kaggle.com/datasets/mojtaba142/hotel-booking/data)"
   ]
  },
  {
   "cell_type": "markdown",
   "metadata": {},
   "source": [
    "## What do we want achieve?\n",
    "\n",
    "1. Can we see any signs of seasonality in the dataset?\n",
    "\n",
    "2. Visualize the distribution of the total length of the stays.\n",
    "\n",
    "3. Find out what's the reservation with the biggest number of guests that was not canceled?\n",
    "\n",
    "4. Find out what is the cancellation rate of the bookings as a function of lead time?\n",
    "\n"
   ]
  },
  {
   "cell_type": "markdown",
   "metadata": {},
   "source": [
    "## Structure of data\n",
    "\n",
    "First, we will look into the column structure of our dataset."
   ]
  },
  {
   "cell_type": "code",
   "execution_count": 3,
   "metadata": {},
   "outputs": [],
   "source": [
    "import numpy as np\n",
    "import pandas as pd\n",
    "import matplotlib.pyplot as plt\n",
    "import seaborn as sns\n",
    "\n",
    "# Load the data\n",
    "df = pd.read_parquet('./hotels.parquet')"
   ]
  },
  {
   "cell_type": "code",
   "execution_count": null,
   "metadata": {},
   "outputs": [],
   "source": []
  }
 ],
 "metadata": {
  "kernelspec": {
   "display_name": "phys",
   "language": "python",
   "name": "python3"
  },
  "language_info": {
   "codemirror_mode": {
    "name": "ipython",
    "version": 3
   },
   "file_extension": ".py",
   "mimetype": "text/x-python",
   "name": "python",
   "nbconvert_exporter": "python",
   "pygments_lexer": "ipython3",
   "version": "3.11.2"
  }
 },
 "nbformat": 4,
 "nbformat_minor": 2
}
